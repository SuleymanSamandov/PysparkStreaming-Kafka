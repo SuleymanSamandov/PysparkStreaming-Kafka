{
 "cells": [
  {
   "cell_type": "code",
   "execution_count": 23,
   "id": "432b209c-b596-45cd-bd17-de2516b5fc37",
   "metadata": {},
   "outputs": [],
   "source": [
    "from pyspark.sql.functions import *\n",
    "from pyspark.sql import SparkSession\n",
    "import logging\n",
    "from pyspark.sql.types import StringType, StructField, StructType, ArrayType, LongType,TimestampType"
   ]
  },
  {
   "cell_type": "code",
   "execution_count": 52,
   "id": "a24b62ad-3eed-4211-9160-478979b436c5",
   "metadata": {},
   "outputs": [],
   "source": [
    "def spark_connection():\n",
    "    spark = None\n",
    "    \n",
    "    try:\n",
    "        spark = (\n",
    "            SparkSession\n",
    "            .builder\n",
    "            .appName(\"Spark Streaming\")\n",
    "            .config(\"spark.streaming.stopGracefullyOnShutdown\", \"true\")\n",
    "            .config(\"spark.sql.shuffle.partitions\", 6)\n",
    "            .config(\"spark.jars.packages\", \"org.apache.spark:spark-sql-kafka-0-10_2.12:3.3.0\")\n",
    "            .master(\"local[*]\")\n",
    "            .getOrCreate()\n",
    "        )\n",
    "    except Exception as e:\n",
    "        print(f\"Error initializing Spark session: {e}\")\n",
    "    \n",
    "    return spark"
   ]
  },
  {
   "cell_type": "code",
   "execution_count": 53,
   "id": "d4ddf7d4-314d-4ad2-bf8f-c6b3faad7bcb",
   "metadata": {},
   "outputs": [],
   "source": [
    "def kafka_connection(spark):\n",
    "    kafka_read = None\n",
    "    \n",
    "    try:\n",
    "        kafka_read = (\n",
    "            spark\n",
    "            .read\n",
    "            .format(\"kafka\")\n",
    "            .option(\"kafka.bootstrap.servers\", \"ed-kafka:29092\")\n",
    "            .option(\"subscribe\", \"business\")  # Fixed typo: \"tecnology\" -> \"technology\"\n",
    "            .option(\"startingOffsets\", \"earliest\")  # Fixed typo: \"starginOffsest\" -> \"startingOffsets\"\n",
    "            .load()\n",
    "        )\n",
    "        logging.info(\"Kafka DataFrame created successfully\")\n",
    "    except Exception as e:\n",
    "        logging.warning(f\"Error creating Kafka DataFrame: {e}\")\n",
    "    \n",
    "    return kafka_read"
   ]
  },
  {
   "cell_type": "code",
   "execution_count": 54,
   "id": "25982ba5-f030-4ec2-a5bd-0e7a8eb8795b",
   "metadata": {},
   "outputs": [],
   "source": [
    "def create_struct(kafka):\n",
    "    # Define schema\n",
    "    schema = StructType([\n",
    "        StructField(\"id\", StringType(), nullable=False),\n",
    "        StructField(\"title\", StringType(), nullable=True),\n",
    "        StructField(\"description\", StringType(), nullable=True),\n",
    "        StructField(\"url\", StringType(), nullable=True),\n",
    "        StructField(\"author\", StringType(), nullable=True),\n",
    "        StructField(\"image\", StringType(), nullable=True),\n",
    "        StructField(\"language\", StringType(), nullable=True),\n",
    "        StructField(\"category\", ArrayType(StringType()), nullable=True),\n",
    "        StructField(\"published\", TimestampType(), nullable=True)\n",
    "    ])\n",
    "    \n",
    "    st = kafka.withColumn(\"value\", expr(\"cast(value as string)\")).select(from_json(col(\"value\"), schema).alias(\"data\")).select(\"data.*\")\n",
    "    \n",
    "    return st"
   ]
  },
  {
   "cell_type": "code",
   "execution_count": 60,
   "id": "065b61bc-b3bc-42e5-a448-21929c40e775",
   "metadata": {},
   "outputs": [
    {
     "name": "stdout",
     "output_type": "stream",
     "text": [
      "+--------------------+--------------------+--------------------+--------------------+--------------------+--------------------+--------+-------------------+-------------------+\n",
      "|                  id|               title|         description|                 url|              author|               image|language|           category|          published|\n",
      "+--------------------+--------------------+--------------------+--------------------+--------------------+--------------------+--------+-------------------+-------------------+\n",
      "|ec2e5a3e-d398-4cb...|Uttarakhand: 3 Ki...|Three people died...|https://www.ndtvp...|                 PTI|https://media.ass...|      en|[general, business]|2024-07-21 09:40:58|\n",
      "|3b9c3c9d-5b33-4df...|Tata Technologies...|NDTV Profit’s spe...|https://www.ndtvp...|    Icici Securities|https://media.ass...|      en|[general, business]|2024-07-21 09:37:22|\n",
      "|6708efb3-b3ad-4ce...|JSW Steel Q1 Resu...|NDTV Profit’s spe...|https://www.ndtvp...|Motilal Oswal Fin...|https://media.ass...|      en|[general, business]|2024-07-21 09:13:17|\n",
      "|a5c182eb-c583-49e...|Reliance Jio Q1 R...|NDTV Profit’s spe...|https://www.ndtvp...|       Dolat Capital|https://media.ass...|      en|[general, business]|2024-07-21 09:02:08|\n",
      "|31dc7042-5eba-48f...|Reliance Industri...|Reliance Industri...|https://www.ndtvp...|Systematix Instit...|https://media.ass...|      en|[general, business]|2024-07-21 08:48:05|\n",
      "|c4622b02-6b7b-4ea...|DFUS: A Core Outp...|Luis Alvarez\\n\\nD...|https://seekingal...|    Michael A. Gayed|https://static.se...|      en|[business, finance]|2024-07-21 08:44:38|\n",
      "|81d2d691-e9e2-429...|Sagar Cements Q1 ...|Sagar Cements Q1 ...|https://www.ndtvp...|Systematix Instit...|https://media.ass...|      en|[general, business]|2024-07-21 08:32:11|\n",
      "|f517f343-e6f8-4c8...|NMZ: Income Bump ...|skynesher/E+ via ...|https://seekingal...|     Dividend Seeker|https://static.se...|      en|[business, finance]|2024-07-21 08:29:32|\n",
      "|a7216ec3-c34e-4dc...|Kotak Mahindra Ba...|NDTV Profit’s spe...|https://www.ndtvp...|       Dolat Capital|https://media.ass...|      en|[general, business]|2024-07-21 08:11:49|\n",
      "|fe47ab23-a435-494...|BIGZ: Hasn't Live...|BIGZ focuses on s...|https://seekingal...|              Diesel|https://static.se...|      en|[business, finance]|2024-07-21 08:04:51|\n",
      "|56e0d400-c28f-42a...|India’s Market En...|IT Spending in In...|https://www.ndtvp...|         Maitri Seth|https://media.ass...|      en|[general, business]|2024-07-21 07:45:53|\n",
      "|03f59869-f51b-499...|Wipro Q1 Results ...|Wipro Q1 Results ...|https://www.ndtvp...|Motilal Oswal Fin...|https://media.ass...|      en|[general, business]|2024-07-21 07:36:13|\n",
      "|bd4f812d-f6e6-4fb...|Jio Financial Ser...|NDTV Profit's spe...|https://www.ndtvp...|Deven Choksey Res...|https://media.ass...|      en|[general, business]|2024-07-21 07:25:47|\n",
      "|b99d9c5b-9068-48a...|Mutual Funds To B...|To that end, the ...|https://www.ndtvp...|    Ndtv Profit Desk|https://media.ass...|      en|[general, business]|2024-07-21 07:23:27|\n",
      "|2134bd7a-8a5b-4d6...|Downshifting US I...|Officials may fal...|https://www.ndtvp...|         Vince Golle|https://media.ass...|      en|[general, business]|2024-07-21 07:10:10|\n",
      "|ddc1bd48-e3fa-434...|FPIs Infuse Rs 30...|Foreign investors...|https://www.ndtvp...|             Live Tv|https://media.ass...|      en|[general, business]|2024-07-21 07:04:57|\n",
      "|dcfe3e6c-d8d7-49d...|Polycab India Q1 ...|NDTV Profit’s spe...|https://www.ndtvp...|       Dolat Capital|https://media.ass...|      en|[general, business]|2024-07-21 07:03:10|\n",
      "|0a6fab99-d298-40f...|EESL To Start Ret...|State-owned Energ...|https://www.ndtvp...|             Live Tv|https://media.ass...|      en|[general, business]|2024-07-21 07:00:30|\n",
      "|42810e44-f385-46f...|IOC Aims To Be 'O...|Indian Oil Corpor...|https://www.ndtvp...|             Live Tv|https://media.ass...|      en|[general, business]|2024-07-21 06:59:43|\n",
      "|b1047b39-4bb7-4e6...|UltraTech Cement ...|NDTV Profit's spe...|https://www.ndtvp...|        IDBI Capital|https://media.ass...|      en|[general, business]|2024-07-21 06:54:59|\n",
      "+--------------------+--------------------+--------------------+--------------------+--------------------+--------------------+--------+-------------------+-------------------+\n",
      "only showing top 20 rows\n",
      "\n"
     ]
    }
   ],
   "source": [
    "if __name__==\"__main__\":\n",
    "    spark_conn=spark_connection()\n",
    "    \n",
    "    if spark_conn is not None:\n",
    "        kafka_frame=kafka_connection(spark_conn)\n",
    "        create_struct(kafka_frame).show()"
   ]
  },
  {
   "cell_type": "code",
   "execution_count": null,
   "id": "6b4f9948-627a-4bd9-bb07-b6ae00fcc304",
   "metadata": {},
   "outputs": [],
   "source": []
  },
  {
   "cell_type": "code",
   "execution_count": null,
   "id": "d44f3c4f-f03d-4aa8-874e-ed9a7d21aa9f",
   "metadata": {},
   "outputs": [],
   "source": []
  }
 ],
 "metadata": {
  "kernelspec": {
   "display_name": "Python 3 (ipykernel)",
   "language": "python",
   "name": "python3"
  },
  "language_info": {
   "codemirror_mode": {
    "name": "ipython",
    "version": 3
   },
   "file_extension": ".py",
   "mimetype": "text/x-python",
   "name": "python",
   "nbconvert_exporter": "python",
   "pygments_lexer": "ipython3",
   "version": "3.10.6"
  }
 },
 "nbformat": 4,
 "nbformat_minor": 5
}
